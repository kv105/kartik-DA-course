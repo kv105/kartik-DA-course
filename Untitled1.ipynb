{
  "cells": [
    {
      "cell_type": "code",
      "execution_count": null,
      "metadata": {
        "id": "5eMhwn1maEAA"
      },
      "outputs": [],
      "source": []
    },
    {
      "cell_type": "code",
      "execution_count": null,
      "metadata": {
        "id": "iMohN5xU0W87"
      },
      "outputs": [],
      "source": [
        "# write a program of onlline Theater ticket booking system\n",
        "# number of eear limited\n",
        "# normal/recline\n",
        "#set prcie according\n",
        "#add combos\n",
        "#display bill\n",
        "#go to the nect person\n",
        "\n",
        "\n",
        "club_seats = 200\n",
        "royal_seats = 12\n",
        "boxoffice_seats = 700\n",
        "club_price = 200\n",
        "royal_price = 500\n",
        "combo1 = 300\n",
        "combo2 = 400\n",
        "combo3 = 500\n",
        "while True:\n",
        "  customer_name = (input(\"Hello sir. Could you please enter your name: \"))\n",
        "  total = 0\n",
        "\n",
        "  print(\"\"\"\n",
        "  We have two different types of seats\n",
        "  1. club seats - 200 RS\n",
        "  2. Royal seat - 500 RS\n",
        "  3. Boxoffice_seats - 700 Rs \"\"\")\n",
        "  choice = input(\"Please Enter your Seats choice: \")\n",
        "  if choice == \"1\":\n",
        "    seats = int(input(\"Please enter how many seats do you want to book: \"))\n",
        "    if seats > club_seats:\n",
        "      print(\"The available clud seats are: \", club_seats)\n",
        "      print(\"The available Royal seats are: \", royal_seats)\n",
        "      print(\"The available Boxoffice seats are: \", boxoffice_seats)\n",
        "      break\n",
        "    else:\n",
        "      total = seats * club_price\n",
        "      club_seats -= seats\n",
        "      print(\"Your amount till know is: \", total)\n",
        "\n",
        "  elif choice == \"2\":\n",
        "    seats = int(input(\"Please enter how many seats do you want to book: \"))\n",
        "    if seats > royal_seats:\n",
        "      print(\"The available clud seats are: \", club_seats)\n",
        "      print(\"The available Royal seats are: \", royal_seats)\n",
        "      print(\"The available Boxoffice seats are: \", boxoffice_seats)\n",
        "      break\n",
        "    else:\n",
        "      total = seats * royal_price\n",
        "      royal_seats -= seats\n",
        "      print(\"Your amount till know is: \", total)\n",
        "\n",
        "  elif choice == \"3\":\n",
        "    seats = int(input(\"Please enter how many seats do you want to book: \"))\n",
        "    if seats > boxoffice_seats:\n",
        "      print(\"The available clud seats are: \", club_seats)\n",
        "      print(\"The available Royal seats are: \", royal_seats)\n",
        "      print(\"The available Boxoffice seats are: \", boxoffice_seats)\n",
        "      break\n",
        "    else:\n",
        "      total = seats * boxoffice_price\n",
        "      boxoffice_seats -= seats\n",
        "      print(\"Your amount till know is: \", total)\n",
        "\n",
        "  print(\"\"\"\n",
        "  Press A for cold coffee + Burger Combo\n",
        "  Press B for cold coffee + Burger + fries Combo\n",
        "  Press C for cold coffee + Burger + pizza Combo\"\"\")\n",
        "\n",
        "  combo = input(\"Enter your combo choice out of A, B, C: \")\n",
        "  if combo == \"A\":\n",
        "    total = total + combo1\n",
        "    break\n",
        "  elif combo == \"B\":\n",
        "    total = total + combo2\n",
        "    break\n",
        "  elif combo == \"C\":\n",
        "    total = total + combo3\n",
        "    break\n",
        "\n",
        "print(\"Your total bill is:\", total)\n",
        "\n"
      ]
    }
  ],
  "metadata": {
    "colab": {
      "provenance": []
    },
    "kernelspec": {
      "display_name": "Python 3",
      "name": "python3"
    },
    "language_info": {
      "name": "python"
    }
  },
  "nbformat": 4,
  "nbformat_minor": 0
}